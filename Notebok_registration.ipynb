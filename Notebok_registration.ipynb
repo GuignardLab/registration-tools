{
 "cells": [
  {
   "cell_type": "markdown",
   "metadata": {},
   "source": [
    "# Registration tools\n",
    "\n",
    "This notebook is part of [blabla citation papier].\n",
    "Before executing it, please make sure you have installed the tools properly (see installation part).\n",
    "\n",
    "Please run the cells one by one, provide input when it is asked and click enter to validate your input, but do not modify the content of the cells.\n",
    "\n",
    "The data structure required is the following : one main folder with the raw movies, which are 3D stacks in time. The multichannel images should be split before. The name should follow 'name_index_channel.tif' avec 'name' the common part between all of your samples, 'index' the index of your sample in the dataset and 'channel' the name of the channel.\n",
    "\n",
    "Exemple : If my acquisition includes 3 samples with 2 channels each, dapi and ecad, i will have in my folder the following files :\n",
    "\n",
    "________________________________________\n",
    "\n",
    "'sample_1_dapi.tif'\n",
    "\n",
    "'sample_1_ecad.tif'\n",
    "\n",
    "'sample_2_dapi.tif'\n",
    "\n",
    "'sample_2_ecad.tif'\n",
    "\n",
    "'sample_3_dapi.tif'\n",
    "\n",
    "'sample_3_ecad.tif'\n",
    "\n",
    "And each file is of dimension (T,Z,X,Y)"
   ]
  },
  {
   "cell_type": "markdown",
   "metadata": {},
   "source": [
    "1- Importing packages (no input required)"
   ]
  },
  {
   "cell_type": "code",
   "execution_count": 1,
   "metadata": {},
   "outputs": [
    {
     "name": "stderr",
     "output_type": "stream",
     "text": [
      "C:\\Users\\gros\\Anaconda3\\envs\\registration-env\\lib\\site-packages\\IO\\IO.py:31: UserWarning: KLB library is not installed\n",
      "  warnings.warn(\"KLB library is not installed\")\n"
     ]
    },
    {
     "name": "stdout",
     "output_type": "stream",
     "text": [
      "pyklb library not found, klb files will not be generated\n"
     ]
    }
   ],
   "source": [
    "import tifffile\n",
    "import os\n",
    "import registrationtools\n",
    "import json\n",
    "import numpy as np"
   ]
  },
  {
   "cell_type": "markdown",
   "metadata": {},
   "source": [
    "2) Please fill below the path to your data (ex : C:\\Users\\username\\Desktop\\DATA\\20230101\\) **with a slash at the end**"
   ]
  },
  {
   "cell_type": "code",
   "execution_count": null,
   "metadata": {},
   "outputs": [],
   "source": [
    "path_to_data = (input('Absolute path to your data folder:')).replace(\"\\\\\", \"/\")"
   ]
  },
  {
   "cell_type": "markdown",
   "metadata": {},
   "source": [
    "3) Also fill the path where you want to save the json file of your registration **with name.json file** (this might be useful in case of debugging or safety checks)\n",
    "example : C:\\Users\\username\\Desktop\\CODES\\Registration\\json_files\\temporal.json"
   ]
  },
  {
   "cell_type": "code",
   "execution_count": 3,
   "metadata": {},
   "outputs": [
    {
     "name": "stdout",
     "output_type": "stream",
     "text": [
      "Absolute path to save the json file :C:\\Users\\gros\\Desktop\\CODES\\Registration\\json_files\\essai.tif\n"
     ]
    }
   ],
   "source": [
    "path_to_json = (input('Absolute path to save the json file :')).replace(\"\\\\\", \"/\")"
   ]
  },
  {
   "cell_type": "markdown",
   "metadata": {},
   "source": [
    "4) To find some parts of the code, the tools need to know where in your installation is your bin folder located. If you followed the procedure from the paper, the path should look like should look like C:\\Users\\username\\Anaconda3/envs\\registration-env\\Library\\bin\\"
   ]
  },
  {
   "cell_type": "code",
   "execution_count": 4,
   "metadata": {},
   "outputs": [
    {
     "name": "stdout",
     "output_type": "stream",
     "text": [
      "Absolute path to the bin folder :C:\\Users\\gros\\Anaconda3/envs\\registration-env\\Library\\bin\\\n"
     ]
    }
   ],
   "source": [
    "path_to_bin = (input('Absolute path to the bin folder :')).replace(\"\\\\\", \"/\")"
   ]
  },
  {
   "cell_type": "markdown",
   "metadata": {},
   "source": [
    "5. Fill here the name of your files without the number of the sample and the channel. For example, if I have 'sample_1_dapi.tif','sample_1_ecad.tif','sample_1_dapi.tif', here the common name is 'sample\"."
   ]
  },
  {
   "cell_type": "code",
   "execution_count": 3,
   "metadata": {},
   "outputs": [
    {
     "name": "stdout",
     "output_type": "stream",
     "text": [
      "Common name of your movies (without any extention) :FGF_100h\n"
     ]
    }
   ],
   "source": [
    "name = input('Common name of your movies (without any extention) :')"
   ]
  },
  {
   "cell_type": "markdown",
   "metadata": {},
   "source": [
    "6. Give here the number of samples that you want to register. We suppose that these samples are acquired with the same channels, have the same name patterns and acquired in the same configuration.\n",
    "Then, give the different numbers that are going to be registered (could be 1, 2 and 3, or 1, 3, 7, no need to be ordered or adjacent)"
   ]
  },
  {
   "cell_type": "code",
   "execution_count": null,
   "metadata": {},
   "outputs": [],
   "source": [
    "number_samples = int(input('Number of samples :'))"
   ]
  },
  {
   "cell_type": "code",
   "execution_count": null,
   "metadata": {},
   "outputs": [],
   "source": [
    "samples=[]\n",
    "for i in range(number_samples) :\n",
    "    s = int(input('Index of sample n°'+str(i+1) +':'))\n",
    "    samples.append(s)\n",
    "print('samples =',samples)"
   ]
  },
  {
   "cell_type": "markdown",
   "metadata": {},
   "source": [
    "7. Give here the number of channels of the acquisition, and their names."
   ]
  },
  {
   "cell_type": "code",
   "execution_count": 6,
   "metadata": {},
   "outputs": [
    {
     "name": "stdout",
     "output_type": "stream",
     "text": [
      "Number of channels :2\n"
     ]
    }
   ],
   "source": [
    "number_channels = int(input('Number of channels :'))"
   ]
  },
  {
   "cell_type": "markdown",
   "metadata": {},
   "source": [
    "8. If the image has multiple channels, you will need one channel who will be the reference to register the other ones. The most 'stable' one, expressed everywhere, is generally a good option."
   ]
  },
  {
   "cell_type": "code",
   "execution_count": 8,
   "metadata": {},
   "outputs": [
    {
     "name": "stdout",
     "output_type": "stream",
     "text": [
      "reference channel :sulfo\n"
     ]
    }
   ],
   "source": [
    "if number_channels == 1:\n",
    "    print('There is only one channel')\n",
    "else :  \n",
    "    ch_ref = input('reference channel :')"
   ]
  },
  {
   "cell_type": "code",
   "execution_count": 9,
   "metadata": {},
   "outputs": [
    {
     "name": "stdout",
     "output_type": "stream",
     "text": [
      "Name of channel n°1 : sulfo\n",
      "Name of channel n°2 : h2b\n"
     ]
    }
   ],
   "source": [
    "channels=[]\n",
    "if number_channels == 1:\n",
    "    ch = input('Name of the channel : ')\n",
    "    channels.append(ch)\n",
    "    ch_ref=ch\n",
    "else : \n",
    "    print('Name of channel n°1 :', ch_ref)\n",
    "    channels.append(ch_ref)\n",
    "    for n in range(1,number_channels) :\n",
    "        ch = input('Name of channel n°'+str(n+1) +' : ')\n",
    "        channels.append(ch)"
   ]
  },
  {
   "cell_type": "markdown",
   "metadata": {},
   "source": [
    "9. Please also give the voxel size of your image, for example [0.2,0.2,1]. This can be found in Fiji, Image>Show Info"
   ]
  },
  {
   "cell_type": "code",
   "execution_count": 12,
   "metadata": {
    "scrolled": true
   },
   "outputs": [
    {
     "name": "stdout",
     "output_type": "stream",
     "text": [
      "Voxel size of your original image (XYZ) :\n",
      "X :0.62\n",
      "Y :0.62\n",
      "Z :2\n",
      "initial voxel size [0.62, 0.62, 2.0]\n"
     ]
    }
   ],
   "source": [
    "print('Voxel size of your original image (XYZ) :')\n",
    "x= float(input('X :'))\n",
    "y= float(input('Y :'))\n",
    "z= float(input('Z :'))\n",
    "ref_voxel = [x,y,z]\n",
    "print('initial voxel size',ref_voxel)"
   ]
  },
  {
   "cell_type": "markdown",
   "metadata": {},
   "source": [
    "10. If for any reason you prefer having an other voxel size for the registered image (for example isotropic, meaning the same voxel size in every dimension), you can tune it below. You can also keep the same size."
   ]
  },
  {
   "cell_type": "code",
   "execution_count": 13,
   "metadata": {},
   "outputs": [
    {
     "name": "stdout",
     "output_type": "stream",
     "text": [
      "Do you want to change the voxel size of your movies ? (1 for yes, 0 for no) : 0\n",
      "\n",
      "Voxel size after transformation [0.62, 0.62, 2.0]\n"
     ]
    }
   ],
   "source": [
    "change_voxel_size = int(input('Do you want to change the voxel size of your movies ? (1 for yes, 0 for no) : '))\n",
    "if change_voxel_size==1 :\n",
    "    print('\\nVoxel size of your image after transformation (XYZ) (ex :[1,1,1]) :')\n",
    "    x= float(input('X :'))\n",
    "    y= float(input('Y :'))\n",
    "    z= float(input('Z :'))\n",
    "    voxel_size_output = [x,y,z]\n",
    "elif change_voxel_size==0 :\n",
    "    voxel_size_output = ref_voxel\n",
    "print('\\nVoxel size after transformation',voxel_size_output)"
   ]
  },
  {
   "cell_type": "code",
   "execution_count": 14,
   "metadata": {},
   "outputs": [
    {
     "data": {
      "text/plain": [
       "['sulfo', 'h2b']"
      ]
     },
     "execution_count": 14,
     "metadata": {},
     "output_type": "execute_result"
    }
   ],
   "source": [
    "channels"
   ]
  },
  {
   "cell_type": "markdown",
   "metadata": {},
   "source": [
    "11. The registration happens below. If there is an error, it will be printed in the terminal window. To solve it, please consider the 'Troubleshooting' section."
   ]
  },
  {
   "cell_type": "code",
   "execution_count": 15,
   "metadata": {},
   "outputs": [
    {
     "name": "stdout",
     "output_type": "stream",
     "text": [
      "1 sulfo\n"
     ]
    },
    {
     "name": "stderr",
     "output_type": "stream",
     "text": [
      "\n",
      "KeyboardInterrupt\n",
      "\n"
     ]
    }
   ],
   "source": [
    "for i in samples :\n",
    "    for c in channels:\n",
    "        print(i,c)\n",
    "        movie = tifffile.imread(rf'{path_to_data}{name}_{i}_{c}.tif') ##if you want to change the naming of your files\n",
    "        directory = str(i)+\"_\"+c\n",
    "        #creates data structure : one directory per channel and per sample\n",
    "        os.mkdir(os.path.join(path_to_data,directory))\n",
    "        os.mkdir(os.path.join(path_to_data+directory,\"trsf\"))\n",
    "        os.mkdir(os.path.join(path_to_data+directory,\"proj\"))\n",
    "        os.mkdir(os.path.join(path_to_data+directory,\"stackseq\"))\n",
    "        ## from movie to image sequence\n",
    "        for t in range(movie.shape[0]) :\n",
    "            stack = movie[t,:,:,:]\n",
    "            tifffile.imwrite(path_to_data+directory+\"/stackseq/movie_t\"+str(format(t,'03d')+'.tif'),stack)"
   ]
  },
  {
   "cell_type": "code",
   "execution_count": 21,
   "metadata": {
    "scrolled": false
   },
   "outputs": [
    {
     "name": "stdout",
     "output_type": "stream",
     "text": [
      "\n",
      "Starting experiment\n",
      "The registration will run with the following arguments:\n",
      "\n",
      "---------------------------------------------------------------------------------------------------------------------------------------------------------------------------------------------------------------------------------------------------------------------------------------------------------------------------------- File format -----------------------------------------------------------------------------------------------------------------------------------------------------------------------------------------------------------------------------------------------------------------------------------------------------------------------------------\n",
      "path_to_data             : C:/Users/gros/Desktop/DATA/20230207_fgf/20230208/2_sulfo/stackseq/\n",
      "file_name                : movie_t{t:03d}.tif\n",
      "trsf_folder              : C:/Users/gros/Desktop/DATA/20230207_fgf/20230208/2_sulfo/trsf/\n",
      "output_format            : C:/Users/gros/Desktop/DATA/20230207_fgf/20230208/2_sulfo/proj/\n",
      "check_TP                 : 0\n",
      "\n",
      "----------------------------------------------------------------------------------------------------------------------------------------------------------------------------------------------------------------------------------------------------------------------------------------------------------------------------- Time series properties -----------------------------------------------------------------------------------------------------------------------------------------------------------------------------------------------------------------------------------------------------------------------------------------------------------------------------\n",
      "voxel_size               : 0.620000x0.620000x2.000000\n",
      "first                    : 0\n",
      "last                     : 199\n",
      "\n",
      "---------------------------------------------------------------------------------------------------------------------------------------------------------------------------------------------------------------------------------------------------------------------------------------------------------------------------------- Registration ----------------------------------------------------------------------------------------------------------------------------------------------------------------------------------------------------------------------------------------------------------------------------------------------------------------------------------\n",
      "compute_trsf             : 1\n",
      "ref_TP                   : 100\n",
      "trsf_type                : rigid\n",
      "padding                  : 1\n",
      "lowess                   : 0\n",
      "trsf_interpolation       : 0\n",
      "recompute                : 1\n",
      "apply_trsf               : 1\n",
      "projection_path          : C:/Users/gros/Desktop/DATA/20230207_fgf/20230208/2_sulfo/proj/\\\n",
      "image_interpolation      : linear\n",
      "\n",
      "0h:1min:23s\n",
      "{'XResolution': 0.62, 'YResolution': 0.62, 'spacing': 2.0}\n",
      "applyTrsf failde, retrying now\n"
     ]
    },
    {
     "name": "stderr",
     "output_type": "stream",
     "text": [
      "<tifffile.TiffFile 'movie_t096.tif'> ImageJ series metadata invalid or corrupted file\n"
     ]
    },
    {
     "name": "stdout",
     "output_type": "stream",
     "text": [
      "Failure of {'path_to_data': 'C:/Users/gros/Desktop/DATA/20230207_fgf/20230208/2_sulfo/stackseq/', 'file_name': 'movie_t{t:03d}.tif', 'trsf_folder': 'C:/Users/gros/Desktop/DATA/20230207_fgf/20230208/2_sulfo/trsf/', 'output_format': 'C:/Users/gros/Desktop/DATA/20230207_fgf/20230208/2_sulfo/proj/', 'projection_path': 'C:/Users/gros/Desktop/DATA/20230207_fgf/20230208/2_sulfo/proj/', 'check_TP': 0, 'voxel_size': [0.62, 0.62, 2.0], 'voxel_size_out': [0.62, 0.62, 2.0], 'first': 0, 'last': 199, 'not_to_do': [], 'compute_trsf': 1, 'ref_TP': 100, 'trsf_type': 'rigid', 'padding': 1, 'recompute': 1, 'apply_trsf': 1, 'out_bdv': '', 'plot_trsf': 0}\n",
      "failed to read 183280384 bytes, got 2548\n",
      "\n",
      "Starting experiment\n",
      "The registration will run with the following arguments:\n",
      "\n",
      "------------------------------------------------------------------------------------------------------------------------------------------------------------------------------------------------------------------------------------------------------------------------------------------------------------------------------- File format --------------------------------------------------------------------------------------------------------------------------------------------------------------------------------------------------------------------------------------------------------------------------------------------------------------------------------\n",
      "path_to_data             : C:/Users/gros/Desktop/DATA/20230207_fgf/20230208/2_h2b/stackseq/\n",
      "file_name                : movie_t{t:03d}.tif\n",
      "trsf_folder              : C:/Users/gros/Desktop/DATA/20230207_fgf/20230208/2_sulfo/trsf/\n",
      "output_format            : C:/Users/gros/Desktop/DATA/20230207_fgf/20230208/2_h2b/proj/\n",
      "check_TP                 : 0\n",
      "\n",
      "-------------------------------------------------------------------------------------------------------------------------------------------------------------------------------------------------------------------------------------------------------------------------------------------------------------------------- Time series properties --------------------------------------------------------------------------------------------------------------------------------------------------------------------------------------------------------------------------------------------------------------------------------------------------------------------------\n",
      "voxel_size               : 0.620000x0.620000x2.000000\n",
      "first                    : 0\n",
      "last                     : 199\n",
      "\n",
      "------------------------------------------------------------------------------------------------------------------------------------------------------------------------------------------------------------------------------------------------------------------------------------------------------------------------------- Registration -------------------------------------------------------------------------------------------------------------------------------------------------------------------------------------------------------------------------------------------------------------------------------------------------------------------------------\n",
      "compute_trsf             : 0\n",
      "apply_trsf               : 1\n",
      "projection_path          : C:/Users/gros/Desktop/DATA/20230207_fgf/20230208/2_h2b/proj/\\\n",
      "image_interpolation      : linear\n",
      "\n"
     ]
    },
    {
     "name": "stderr",
     "output_type": "stream",
     "text": [
      "<tifffile.TiffFile 'movie_t000.tif'> ImageJ series metadata invalid or corrupted file\n"
     ]
    },
    {
     "name": "stdout",
     "output_type": "stream",
     "text": [
      "applyTrsf failde, retrying now\n"
     ]
    },
    {
     "name": "stderr",
     "output_type": "stream",
     "text": [
      "<tifffile.TiffFile 'movie_t000.tif'> ImageJ series metadata invalid or corrupted file\n"
     ]
    },
    {
     "name": "stdout",
     "output_type": "stream",
     "text": [
      "Failure of {'path_to_data': 'C:/Users/gros/Desktop/DATA/20230207_fgf/20230208/2_h2b/stackseq/', 'file_name': 'movie_t{t:03d}.tif', 'trsf_folder': 'C:/Users/gros/Desktop/DATA/20230207_fgf/20230208/2_sulfo/trsf/', 'output_format': 'C:/Users/gros/Desktop/DATA/20230207_fgf/20230208/2_h2b/proj/', 'projection_path': 'C:/Users/gros/Desktop/DATA/20230207_fgf/20230208/2_h2b/proj/', 'check_TP': 0, 'voxel_size': [0.62, 0.62, 2.0], 'voxel_size_out': [0.62, 0.62, 2.0], 'first': 0, 'last': 199, 'not_to_do': [], 'compute_trsf': 0, 'ref_TP': 100, 'trsf_type': 'rigid', 'padding': 1, 'recompute': 1, 'apply_trsf': 1, 'out_bdv': '', 'plot_trsf': 0}\n",
      "failed to read 183280384 bytes, got 2548\n"
     ]
    }
   ],
   "source": [
    "for i in samples :\n",
    "    for c in channels:\n",
    "        directory = str(i)+\"_\"+c\n",
    "        \n",
    "        movie = tifffile.imread(rf'{path_to_data}{name}_{i}_{c}.tif') ##if you want to change the naming of your files\n",
    "        ref_timepoint = int(movie.shape[0]/2)\n",
    "        if c==ch_ref:\n",
    "            compute_transf = 1\n",
    "        else :\n",
    "            compute_transf = 0\n",
    "\n",
    "        # # # # ##JSON FILE CONFIG\n",
    "        data = {\n",
    "          \"path_to_data\": path_to_data+directory+\"/stackseq/\",\n",
    "          \"file_name\": \"movie_t{t:03d}.tif\",\n",
    "          \"trsf_folder\": rf'{path_to_data}{str(i)}_{ch_ref}/trsf/',\n",
    "          \"output_format\": path_to_data+directory+\"/proj/\",\n",
    "          \"projection_path\": path_to_data+directory+\"/proj/\",\n",
    "          \"check_TP\": 0,\n",
    "          \"voxel_size\": ref_voxel,\n",
    "          \"voxel_size_out\" : voxel_size_output,\n",
    "          \"first\": 0,\n",
    "          \"last\": movie.shape[0]-1,\n",
    "          \"not_to_do\": [],\n",
    "          \"compute_trsf\": compute_transf,\n",
    "          \"ref_TP\": ref_timepoint,\n",
    "          \"trsf_type\": \"rigid\",\n",
    "          \"padding\": 1,\n",
    "          \"recompute\": 1,\n",
    "\n",
    "          \"apply_trsf\":1,\n",
    "          \"out_bdv\": \"\",\n",
    "          \"plot_trsf\":0\n",
    "\n",
    "        }\n",
    "\n",
    "        json_string=json.dumps(data)\n",
    "        with open(path_to_json,'w') as outfile :\n",
    "            outfile.write(json_string)\n",
    "\n",
    "        tr = registrationtools.TimeRegistration(data)\n",
    "        tr.run_trsf()"
   ]
  },
  {
   "cell_type": "markdown",
   "metadata": {},
   "source": [
    "12. The previous cell saved an image sequence. Here is some code to save the output as a movie."
   ]
  },
  {
   "cell_type": "code",
   "execution_count": 12,
   "metadata": {},
   "outputs": [
    {
     "name": "stdout",
     "output_type": "stream",
     "text": [
      "(200, 164, 787, 794)\n",
      "(200, 164, 787, 794)\n"
     ]
    }
   ],
   "source": [
    "for i in samples :\n",
    "    for c in channels:\n",
    "        directory = str(i)+\"_\"+c\n",
    "        stack0 =tifffile.imread(rf\"{path_to_data}/{directory}/proj/movie_t000.tif\")\n",
    "        movie = tifffile.imread(rf'{path_to_data}{name}_{i}_{c}.tif') ##if you want to change the naming of your files\n",
    "        registered_movie = np.zeros((movie.shape[0],stack0.shape[0],stack0.shape[1],stack0.shape[2]),dtype=np.float16) #one movie per channel, of format (t,z,y,x).Datatype uint16 or float34 is necessary to export as hyperstack\n",
    "        for t in range(movie.shape[0]) :\n",
    "            stack =tifffile.imread(rf\"{path_to_data}/{directory}/proj/movie_t{format(t,'03d')}.tif\")\n",
    "            #we take each stack in a given timepoint\n",
    "            registered_movie[t,:,:,:]=stack #and put it in a new hyperstack\n",
    "        tifffile.imwrite(path_to_data+rf\"/registermovie_{c}.tif\",registered_movie.astype(np.float16)) #write a hyperstack in the main folder\n",
    "        print(registered_movie.shape)"
   ]
  },
  {
   "cell_type": "markdown",
   "metadata": {},
   "source": [
    "Input:\n",
    "- 1 file/channel containing all timepoints\n",
    "- 1 file containgin all channels and timepoints -> split channels and times in 1 folder/channel and 1 stack/ timepoint\n",
    "- 1 file/channel/timepoint -> nothing to do\n",
    "\n",
    "Output: 1 folder with all time points and all channels separated in individual stacks\n"
   ]
  },
  {
   "cell_type": "code",
   "execution_count": 30,
   "metadata": {},
   "outputs": [],
   "source": [
    "from IO import imread, imsave\n",
    "# p = f\"/path/to/data/name_t{t:04d}.tif\"\n",
    "def combined_stack_to_sequence(\n",
    "    im_path: str,\n",
    "    nb_timepoints: int,\n",
    "    nb_channels:int = 1\n",
    "):\n",
    "    im = imread(im_path)\n",
    "    if 1<nb_channels:\n",
    "        channel_pos = np.where(im.shape==nb_channels)[0]\n",
    "    time_pos = np.where(im.shape==nb_timepoints)[0]\n",
    "    "
   ]
  },
  {
   "cell_type": "code",
   "execution_count": null,
   "metadata": {},
   "outputs": [],
   "source": []
  }
 ],
 "metadata": {
  "kernelspec": {
   "display_name": "Python 3 (ipykernel)",
   "language": "python",
   "name": "python3"
  },
  "language_info": {
   "codemirror_mode": {
    "name": "ipython",
    "version": 3
   },
   "file_extension": ".py",
   "mimetype": "text/x-python",
   "name": "python",
   "nbconvert_exporter": "python",
   "pygments_lexer": "ipython3",
   "version": "3.10.8"
  }
 },
 "nbformat": 4,
 "nbformat_minor": 2
}
