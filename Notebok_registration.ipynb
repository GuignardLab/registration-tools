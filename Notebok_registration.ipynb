{
 "cells": [
  {
   "cell_type": "markdown",
   "metadata": {},
   "source": [
    "# Registration tools\n",
    "\n",
    "This notebook is part of [blabla citation papier].\n",
    "Before executing it, please make sure you have installed the tools properly (see installation part).\n",
    "\n",
    "Please run the cells one by one, provide input when it is asked and press enter to validate your input, but do not modify the content of the cells.\n",
    "\n",
    "The data structure required is the following : one main folder with the raw movies, which are 3D stacks in time. The multichannel images should be split before. The name should follow 'name_index_channel.tif' with 'name' the common part between all of your samples, 'index' the index of your sample in the dataset and 'channel' the name of the channel.\n",
    "\n",
    "Exemple : If my acquisition includes 3 samples with 2 channels each, dapi and ecad, my folder will contain the folowing files with '70h_FGF\" the common name between my samples:\n",
    "\n",
    "________________________________________\n",
    "\n",
    "'70h_FGF_1_dapi.tif'\n",
    "\n",
    "'70h_FGF_1_ecad.tif'\n",
    "\n",
    "'70h_FGF_2_dapi.tif'\n",
    "\n",
    "'70h_FGF_2_ecad.tif'\n",
    "\n",
    "'70h_FGF_3_dapi.tif'\n",
    "\n",
    "'70h_FGF_3_ecad.tif'\n",
    "\n",
    "And each file is of dimension (T,Z,X,Y)"
   ]
  },
  {
   "cell_type": "markdown",
   "metadata": {},
   "source": [
    "1- Importing packages (no input required)"
   ]
  },
  {
   "cell_type": "code",
   "execution_count": 1,
   "metadata": {},
   "outputs": [
    {
     "name": "stderr",
     "output_type": "stream",
     "text": [
      "C:\\Users\\gros\\Anaconda3\\envs\\registration-env\\lib\\site-packages\\IO\\IO.py:31: UserWarning: KLB library is not installed\n",
      "  warnings.warn(\"KLB library is not installed\")\n"
     ]
    },
    {
     "name": "stdout",
     "output_type": "stream",
     "text": [
      "pyklb library not found, klb files will not be generated\n"
     ]
    }
   ],
   "source": [
    "import tifffile\n",
    "import os\n",
    "import registrationtools\n",
    "import json\n",
    "import numpy as np"
   ]
  },
  {
   "cell_type": "markdown",
   "metadata": {},
   "source": [
    "2) Please fill below the path to your data (ex : C:\\Users\\username\\Desktop\\DATA\\20230101\\) **with a slash at the end**"
   ]
  },
  {
   "cell_type": "code",
   "execution_count": 2,
   "metadata": {},
   "outputs": [
    {
     "name": "stdout",
     "output_type": "stream",
     "text": [
      "Absolute path to your data folder:C:\\Users\\gros\\Desktop\\DATA\\20230207_fgf\\20230214\\\n"
     ]
    }
   ],
   "source": [
    "path_to_data = (input('Absolute path to your data folder:')).replace(\"\\\\\", \"/\")"
   ]
  },
  {
   "cell_type": "markdown",
   "metadata": {},
   "source": [
    "3) Also fill the path where you want to save the json file of your registration **with name.json file** (this might be useful in case of debugging or safety checks)\n",
    "example : C:\\Users\\username\\Desktop\\Registration\\json_files\\temporal.json"
   ]
  },
  {
   "cell_type": "code",
   "execution_count": 3,
   "metadata": {},
   "outputs": [
    {
     "name": "stdout",
     "output_type": "stream",
     "text": [
      "Absolute path to save the json file :C:\\Users\\gros\\Desktop\\CODES\\Alice_Registration\\json_files\\json.json\n"
     ]
    }
   ],
   "source": [
    "path_to_json = (input('Absolute path to save the json file :')).replace(\"\\\\\", \"/\")"
   ]
  },
  {
   "cell_type": "markdown",
   "metadata": {},
   "source": [
    "<!-- 4) To find some parts of the code, the tools need to know where in your installation is your bin folder located. If you followed the procedure from the paper, the path should look like should look like C:\\Users\\username\\Anaconda3/envs\\registration-env\\Library\\bin\\ -->"
   ]
  },
  {
   "cell_type": "markdown",
   "metadata": {},
   "source": [
    "4. Fill here the common name of your files (without the number of the sample and the channel). For example, if I have '70h_FGF_1_dapi.tif','70h_FGF_1_ecad.tif','70h_FGF_1_dapi.tif', here the common name is '70h_FGF\"."
   ]
  },
  {
   "cell_type": "code",
   "execution_count": 6,
   "metadata": {},
   "outputs": [
    {
     "name": "stdout",
     "output_type": "stream",
     "text": [
      "Common name of your movies :H2B_FGF_100h\n"
     ]
    }
   ],
   "source": [
    "name = input('Common name of your movies :')"
   ]
  },
  {
   "cell_type": "markdown",
   "metadata": {},
   "source": [
    "5. Give here the number of samples that you want to register. We suppose that these samples are acquired with the same channels and have the same name pattern.\n",
    "Then, give the different numbers that are going to be registered (could be 1, 2, 3, or 1, 3, 7, no need to be ordered or adjacent)"
   ]
  },
  {
   "cell_type": "code",
   "execution_count": 7,
   "metadata": {},
   "outputs": [
    {
     "name": "stdout",
     "output_type": "stream",
     "text": [
      "Number of samples :1\n"
     ]
    }
   ],
   "source": [
    "number_samples = int(input('Number of samples :'))"
   ]
  },
  {
   "cell_type": "code",
   "execution_count": null,
   "metadata": {},
   "outputs": [],
   "source": [
    "samples=[]\n",
    "for i in range(number_samples) :\n",
    "    s = int(input('Index of sample n°'+str(i+1) +':'))\n",
    "    samples.append(s)\n",
    "print('samples =',samples)"
   ]
  },
  {
   "cell_type": "markdown",
   "metadata": {},
   "source": [
    "6. Give here the number of channels that you want to register"
   ]
  },
  {
   "cell_type": "code",
   "execution_count": null,
   "metadata": {},
   "outputs": [],
   "source": [
    "number_channels = int(input('Number of channels :'))"
   ]
  },
  {
   "cell_type": "markdown",
   "metadata": {},
   "source": [
    "7. If the image has multiple channels, you will need one channel who will be the reference to register the other ones. The most 'stable' one, expressed everywhere, is generally a good option."
   ]
  },
  {
   "cell_type": "code",
   "execution_count": null,
   "metadata": {},
   "outputs": [],
   "source": [
    "if number_channels == 1:\n",
    "    print('There is only one channel. This channel will be the reference.')\n",
    "else :  \n",
    "    ch_ref = input('Name of the reference channel :')"
   ]
  },
  {
   "cell_type": "code",
   "execution_count": null,
   "metadata": {},
   "outputs": [],
   "source": [
    "channels=[]\n",
    "if number_channels == 1:\n",
    "    ch = input('Name of the channel : ')\n",
    "    channels.append(ch)\n",
    "    ch_ref=ch\n",
    "else : \n",
    "    print('Name of channel n°1 :', ch_ref)\n",
    "    channels.append(ch_ref)\n",
    "    for n in range(1,number_channels) :\n",
    "        ch = input('Name of channel n°'+str(n+1) +' : ')\n",
    "        channels.append(ch)"
   ]
  },
  {
   "cell_type": "markdown",
   "metadata": {},
   "source": [
    "8. Please also give the voxel size of your image in XYZ, for example [0.2,0.2,1]. This can be found in Fiji, Image>Show Info."
   ]
  },
  {
   "cell_type": "code",
   "execution_count": null,
   "metadata": {
    "scrolled": true
   },
   "outputs": [],
   "source": [
    "print('Voxel size of your original image (XYZ) :')\n",
    "x= float(input('X :'))\n",
    "y= float(input('Y :'))\n",
    "z= float(input('Z :'))\n",
    "ref_voxel = [x,y,z]\n",
    "print('initial voxel size',ref_voxel)"
   ]
  },
  {
   "cell_type": "markdown",
   "metadata": {},
   "source": [
    "9. If for any reason you prefer having an other voxel size for the registered image (for example isotropic, meaning the same voxel size in every dimension), you can tune it below. You can also keep the same size."
   ]
  },
  {
   "cell_type": "code",
   "execution_count": 13,
   "metadata": {},
   "outputs": [
    {
     "name": "stdout",
     "output_type": "stream",
     "text": [
      "Do you want to change the voxel size of your movies ? (1 for yes, 0 for no) : 0\n",
      "\n",
      "Voxel size after transformation [0.62, 0.62, 2.0]\n"
     ]
    }
   ],
   "source": [
    "change_voxel_size = int(input('Do you want to change the voxel size of your movies ? (1 for yes, 0 for no) : '))\n",
    "if change_voxel_size==1 :\n",
    "    print('\\nVoxel size of your image after transformation (XYZ) (ex :[1,1,1]) :')\n",
    "    x= float(input('X :'))\n",
    "    y= float(input('Y :'))\n",
    "    z= float(input('Z :'))\n",
    "    voxel_size_output = [x,y,z]\n",
    "elif change_voxel_size==0 :\n",
    "    voxel_size_output = ref_voxel\n",
    "print('\\nVoxel size after transformation',voxel_size_output)"
   ]
  },
  {
   "cell_type": "code",
   "execution_count": 14,
   "metadata": {},
   "outputs": [
    {
     "data": {
      "text/plain": [
       "['sulfo', 'h2b']"
      ]
     },
     "execution_count": 14,
     "metadata": {},
     "output_type": "execute_result"
    }
   ],
   "source": [
    "channels"
   ]
  },
  {
   "cell_type": "markdown",
   "metadata": {},
   "source": [
    "9. Below, we create a folder structure and cut your movie into timepoints"
   ]
  },
  {
   "cell_type": "code",
   "execution_count": null,
   "metadata": {},
   "outputs": [],
   "source": [
    "for i in samples :\n",
    "    for c in channels:\n",
    "        movie = tifffile.imread(rf'{path_to_data}{name}_{i}_{c}.tif') ##if you want to change the naming of your files\n",
    "        #movie = tifffile.imread(rf'{path_to_data}rigid2D/{name}{i}_{c}_rigid2D.tif')\n",
    "        print('cuting movie ',name,i,'_',c,'.tif into ', movie.shape[0], ' timepoints, saving them in folder ',i,'_',c)\n",
    "        directory = str(i)+\"_\"+c\n",
    "        #creates data structure : one directory per channel and per sample\n",
    "        os.mkdir(os.path.join(path_to_data,directory))\n",
    "        os.mkdir(os.path.join(path_to_data+directory,\"trsf\"))\n",
    "        os.mkdir(os.path.join(path_to_data+directory,\"proj\"))\n",
    "        os.mkdir(os.path.join(path_to_data+directory,\"stackseq\"))\n",
    "        ## from movie to image sequence\n",
    "        for t in range(movie.shape[0]) :\n",
    "            stack = movie[t,:,:,:]\n",
    "            tifffile.imwrite(path_to_data+directory+\"/stackseq/movie_t\"+str(format(t,'03d')+'.tif'),stack)"
   ]
  },
  {
   "cell_type": "markdown",
   "metadata": {},
   "source": [
    "10. The actual registration happens in the following part. The process can take few minutes depending on the size of your data. If there is an error, it will be printed either below or in the terminal window. To solve it, please consider the 'Troubleshooting' section."
   ]
  },
  {
   "cell_type": "code",
   "execution_count": null,
   "metadata": {
    "scrolled": false
   },
   "outputs": [],
   "source": [
    "for i in samples :\n",
    "    for c in channels:\n",
    "        directory = str(i)+\"_\"+c\n",
    "        \n",
    "        movie = tifffile.imread(rf'{path_to_data}{name}_{i}_{c}.tif') ##if you want to change the naming of your files\n",
    "        ref_timepoint = int(movie.shape[0]/2)\n",
    "        if c==ch_ref:\n",
    "            compute_transf = 1\n",
    "        else :\n",
    "            compute_transf = 0\n",
    "        apply_trsf=1\n",
    "        # # # # ##JSON FILE CONFIG\n",
    "        data = {\n",
    "          \"path_to_data\": path_to_data+directory+\"/stackseq/\",\n",
    "          \"file_name\": \"movie_t{t:03d}.tif\",\n",
    "          \"trsf_folder\": rf'{path_to_data}{str(i)}_{ch_ref}/trsf/',\n",
    "          \"output_format\": path_to_data+directory+\"/proj/\",\n",
    "          \"projection_path\": path_to_data+directory+\"/proj/\",\n",
    "          \"check_TP\": 0,\n",
    "          \"voxel_size\": ref_voxel,\n",
    "          \"voxel_size_out\" : voxel_size_output,\n",
    "          \"first\": 0,\n",
    "          \"last\": movie.shape[0]-1,\n",
    "          \"not_to_do\": [],\n",
    "          \"compute_trsf\": compute_transf,\n",
    "          \"ref_TP\": ref_timepoint,\n",
    "          \"trsf_type\": trsf_type,\n",
    "          \"padding\": 1,\n",
    "          \"recompute\": 1,\n",
    "\n",
    "          \"apply_trsf\":apply_trsf,\n",
    "          \"out_bdv\": \"\",\n",
    "          \"plot_trsf\":0\n",
    "\n",
    "        }\n",
    "\n",
    "        json_string=json.dumps(data)\n",
    "        with open(path_to_json,'w') as outfile :\n",
    "            outfile.write(json_string)\n",
    "\n",
    "        tr = registrationtools.TimeRegistration(data)\n",
    "        tr.run_trsf()"
   ]
  },
  {
   "cell_type": "markdown",
   "metadata": {},
   "source": [
    "11. The previous cell saved an image sequence. Here we save the output as a movie."
   ]
  },
  {
   "cell_type": "code",
   "execution_count": null,
   "metadata": {
    "scrolled": true
   },
   "outputs": [],
   "source": [
    "for i in samples :\n",
    "    for c in channels:\n",
    "        directory = str(i)+\"_\"+c\n",
    "        stack0 =tifffile.imread(rf\"{path_to_data}/{directory}/proj/movie_t000.tif\")\n",
    "        movie = tifffile.imread(rf'{path_to_data}{name}_{i}_{c}.tif') ##if you want to change the naming of your files\n",
    "        registered_movie = np.zeros((movie.shape[0],stack0.shape[0],stack0.shape[1],stack0.shape[2]),dtype=np.float16) #one movie per channel, of format (t,z,y,x).Datatype uint16 or float34 is necessary to export as hyperstack\n",
    "        for t in range(movie.shape[0]) :\n",
    "            stack =tifffile.imread(rf\"{path_to_data}/{directory}/proj/movie_t{format(t,'03d')}.tif\")\n",
    "            #we take each stack in a given timepoint\n",
    "            registered_movie[t,:,:,:]=stack #and put it in a new hyperstack\n",
    "        tifffile.imwrite(path_to_data+rf\"/{name}_{i}_{c}_rigid2D.tif\",registered_movie.astype(np.float16)) #write a hyperstack in the main folder\n",
    "        print(registered_movie.shape)"
   ]
  },
  {
   "cell_type": "code",
   "execution_count": null,
   "metadata": {},
   "outputs": [],
   "source": []
  }
 ],
 "metadata": {
  "kernelspec": {
   "display_name": "Python 3 (ipykernel)",
   "language": "python",
   "name": "python3"
  },
  "language_info": {
   "codemirror_mode": {
    "name": "ipython",
    "version": 3
   },
   "file_extension": ".py",
   "mimetype": "text/x-python",
   "name": "python",
   "nbconvert_exporter": "python",
   "pygments_lexer": "ipython3",
   "version": "3.10.9"
  }
 },
 "nbformat": 4,
 "nbformat_minor": 2
}
