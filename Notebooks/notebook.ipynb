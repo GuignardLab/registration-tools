{
 "cells": [
  {
   "cell_type": "markdown",
   "metadata": {},
   "source": [
    "# Registration tools\n",
    "\n",
    "This notebook is part of [blabla citation papier].\n",
    "Before executing it, please make sure you have installed the tools properly (see installation part).\n",
    "\n",
    "Please run the cells one by one, provide input when it is asked and press enter to validate your input, but do not modify the content of the cells.\n",
    "\n",
    "The data structure required is the following : one main folder with the raw movies (3D stacks in time), which can be multichannel or not.\n",
    "The first part prepares the data, cut the movie into a timesequence and asks for the parameters. The second part does the actual registration. The third part saves the registered sequence as a stack, and the fourth part saves the parameter files.\n",
    "The process can take few minutes depending on the size of your data. If there is an error, it will be printed either below or in the terminal window. To solve it, please consider the 'Troubleshooting' section.\n"
   ]
  },
  {
   "cell_type": "markdown",
   "metadata": {},
   "source": [
    "0 - Importing packages (no input required)"
   ]
  },
  {
   "cell_type": "code",
   "execution_count": 1,
   "metadata": {},
   "outputs": [
    {
     "name": "stderr",
     "output_type": "stream",
     "text": [
      "C:\\Users\\gros\\Desktop\\CODES\\registration-tools\\src\\IO\\IO.py:31: UserWarning: KLB library is not installed\n",
      "  warnings.warn(\"KLB library is not installed\")\n"
     ]
    },
    {
     "name": "stdout",
     "output_type": "stream",
     "text": [
      "pyklb library not found, klb files will not be generated\n"
     ]
    }
   ],
   "source": [
    "from registrationtools import utils"
   ]
  },
  {
   "cell_type": "markdown",
   "metadata": {},
   "source": [
    "1 - Data preparation"
   ]
  },
  {
   "cell_type": "code",
   "execution_count": null,
   "metadata": {
    "scrolled": false
   },
   "outputs": [
    {
     "name": "stdout",
     "output_type": "stream",
     "text": [
      "Path to the folder of the movie(s) (in tiff format only) : \n",
      " C:\\Users\\gros\\Desktop\\DATA\\20230207_fgf\\test\n",
      "You have 1 movie(s), which is (are) :\n",
      " \n",
      "2\n"
     ]
    }
   ],
   "source": [
    "list_paths, number_timepoints, channels_float, ch_ref, voxel_size_input, voxel_size_output, trsf_type = utils.data_preparation()"
   ]
  },
  {
   "cell_type": "markdown",
   "metadata": {},
   "source": [
    "2 - Register the data"
   ]
  },
  {
   "cell_type": "code",
   "execution_count": null,
   "metadata": {},
   "outputs": [
    {
     "name": "stdout",
     "output_type": "stream",
     "text": [
      "\n",
      "Starting experiment\n",
      "The registration will run with the following arguments:\n",
      "\n",
      "---------------------------------------------------------------------------------------------------------------------------------------------------------------------------------------------------------------------------------------------------------------------------------------------------------------------------------------------- File format -----------------------------------------------------------------------------------------------------------------------------------------------------------------------------------------------------------------------------------------------------------------------------------------------------------------------------------------------\n",
      "path_to_data             : C:\\Users\\gros\\Desktop\\DATA\\20230207_fgf\\test/2_sulfo/stackseq/\n",
      "file_name                : movie_t{t:03d}.tif\n",
      "trsf_folder              : C:\\Users\\gros\\Desktop\\DATA\\20230207_fgf\\test/2_sulfo/trsf/\n",
      "output_format            : C:\\Users\\gros\\Desktop\\DATA\\20230207_fgf\\test/2_sulfo/output/\n",
      "check_TP                 : 0\n",
      "\n",
      "----------------------------------------------------------------------------------------------------------------------------------------------------------------------------------------------------------------------------------------------------------------------------------------------------------------------------------------- Time series properties -----------------------------------------------------------------------------------------------------------------------------------------------------------------------------------------------------------------------------------------------------------------------------------------------------------------------------------------\n",
      "voxel_size               : 0.620000x0.620000x1.000000\n",
      "first                    : 0\n",
      "last                     : 101\n",
      "\n",
      "---------------------------------------------------------------------------------------------------------------------------------------------------------------------------------------------------------------------------------------------------------------------------------------------------------------------------------------------- Registration ----------------------------------------------------------------------------------------------------------------------------------------------------------------------------------------------------------------------------------------------------------------------------------------------------------------------------------------------\n",
      "compute_trsf             : 1\n",
      "ref_TP                   : 51\n",
      "trsf_type                : translation2D\n",
      "padding                  : 1\n",
      "lowess                   : 0\n",
      "trsf_interpolation       : 0\n",
      "recompute                : 1\n",
      "apply_trsf               : 1\n",
      "projection_path          : C:\\Users\\gros\\Desktop\\DATA\\20230207_fgf\\test/2_sulfo/proj_output/\\\n",
      "image_interpolation      : linear\n",
      "\n",
      "0h:0min:30s\n",
      "{'XResolution': 0.62, 'YResolution': 0.62, 'spacing': 1.0}\n",
      "{'XResolution': 1.0, 'YResolution': 1.0, 'spacing': 1.0}\n",
      "{'XResolution': 1.0, 'YResolution': 1.0, 'spacing': 1.0}\n",
      "{'XResolution': 1.0, 'YResolution': 1.0, 'spacing': 1.0}\n",
      "\n",
      "Starting experiment\n",
      "The registration will run with the following arguments:\n",
      "\n",
      "------------------------------------------------------------------------------------------------------------------------------------------------------------------------------------------------------------------------------------------------------------------------------------------------------------------------------------------- File format --------------------------------------------------------------------------------------------------------------------------------------------------------------------------------------------------------------------------------------------------------------------------------------------------------------------------------------------\n",
      "path_to_data             : C:\\Users\\gros\\Desktop\\DATA\\20230207_fgf\\test/2_h2B/stackseq/\n",
      "file_name                : movie_t{t:03d}.tif\n",
      "trsf_folder              : C:\\Users\\gros\\Desktop\\DATA\\20230207_fgf\\test/2_sulfo/trsf/\n",
      "output_format            : C:\\Users\\gros\\Desktop\\DATA\\20230207_fgf\\test/2_h2B/output/\n",
      "check_TP                 : 0\n",
      "\n",
      "-------------------------------------------------------------------------------------------------------------------------------------------------------------------------------------------------------------------------------------------------------------------------------------------------------------------------------------- Time series properties --------------------------------------------------------------------------------------------------------------------------------------------------------------------------------------------------------------------------------------------------------------------------------------------------------------------------------------\n",
      "voxel_size               : 0.620000x0.620000x1.000000\n",
      "first                    : 0\n",
      "last                     : 101\n",
      "\n",
      "------------------------------------------------------------------------------------------------------------------------------------------------------------------------------------------------------------------------------------------------------------------------------------------------------------------------------------------- Registration -------------------------------------------------------------------------------------------------------------------------------------------------------------------------------------------------------------------------------------------------------------------------------------------------------------------------------------------\n",
      "compute_trsf             : 0\n",
      "apply_trsf               : 1\n",
      "projection_path          : C:\\Users\\gros\\Desktop\\DATA\\20230207_fgf\\test/2_h2B/proj_output/\\\n",
      "image_interpolation      : linear\n",
      "\n"
     ]
    }
   ],
   "source": [
    "jsons = utils.run_registration(list_paths=list_paths,\n",
    "                                channels_float=channels_float, ch_ref=ch_ref, \n",
    "                                voxel_size_input=voxel_size_input, voxel_size_output=voxel_size_output,\n",
    "                                trsf_type=trsf_type)"
   ]
  },
  {
   "cell_type": "markdown",
   "metadata": {},
   "source": [
    "3 - Saving the sequence as a stack (optional)\n",
    "\n",
    "The previous cell saved an image sequence. Here you can save the output as a hyperstack that you can open on Fiji.\n",
    "\n",
    "Careful about your storage : Because of the transformation, the size of the output can be significantly bigger than the original"
   ]
  },
  {
   "cell_type": "code",
   "execution_count": 4,
   "metadata": {},
   "outputs": [
    {
     "name": "stderr",
     "output_type": "stream",
     "text": [
      "c:\\Users\\gros\\Anaconda3\\envs\\registration\\lib\\site-packages\\tifffile\\tifffile.py:3474: UserWarning: <tifffile.TiffWriter '2_registered.tif'> truncating ImageJ file\n",
      "  warnings.warn(\n"
     ]
    },
    {
     "name": "stdout",
     "output_type": "stream",
     "text": [
      "saved registered 2 of size (102, 82, 2, 348, 364)\n"
     ]
    }
   ],
   "source": [
    "utils.save_sequences_as_stacks(list_paths=list_paths,\n",
    "           channels=channels_float+[ch_ref],\n",
    "           number_timepoints=number_timepoints)"
   ]
  },
  {
   "cell_type": "markdown",
   "metadata": {},
   "source": [
    "4 - Saving the json files (optional)\n",
    "\n",
    "If you want to save the json file of your registration, execute the cell below (this might be useful in case of debugging or safety checks)"
   ]
  },
  {
   "cell_type": "code",
   "execution_count": null,
   "metadata": {},
   "outputs": [],
   "source": [
    "utils.save_jsonfile(list_paths=list_paths,json_string=jsons)"
   ]
  }
 ],
 "metadata": {
  "kernelspec": {
   "display_name": "Python 3 (ipykernel)",
   "language": "python",
   "name": "python3"
  },
  "language_info": {
   "codemirror_mode": {
    "name": "ipython",
    "version": 3
   },
   "file_extension": ".py",
   "mimetype": "text/x-python",
   "name": "python",
   "nbconvert_exporter": "python",
   "pygments_lexer": "ipython3",
   "version": "3.10.9"
  }
 },
 "nbformat": 4,
 "nbformat_minor": 2
}
