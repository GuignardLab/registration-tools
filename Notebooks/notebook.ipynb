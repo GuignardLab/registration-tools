{
 "cells": [
  {
   "cell_type": "markdown",
   "metadata": {},
   "source": [
    "# Registration tools\n",
    "\n",
    "This notebook is part of [blabla citation papier].\n",
    "Before executing it, please make sure you have installed the tools properly (see installation part).\n",
    "\n",
    "Please run the cells one by one, provide input when it is asked and press enter to validate your input, but do not modify the content of the cells.\n",
    "\n",
    "The data structure required is the following : one main folder with the raw movies (3D stacks in time), which can be multichannel or not.\n",
    "The first part prepares the data, cut the movie into a timesequence and asks for the parameters. The second part does the actual registration. The third part saves the registered sequence as a stack, and the fourth part saves the parameter files.\n",
    "The process can take few minutes depending on the size of your data. If there is an error, it will be printed either below or in the terminal window. To solve it, please consider the 'Troubleshooting' section.\n"
   ]
  },
  {
   "cell_type": "markdown",
   "metadata": {},
   "source": [
    "0 - Importing packages (no input required)"
   ]
  },
  {
   "cell_type": "code",
   "execution_count": 1,
   "metadata": {},
   "outputs": [
    {
     "name": "stderr",
     "output_type": "stream",
     "text": [
      "C:\\Users\\gros\\Desktop\\CODES\\registration-tools\\src\\IO\\IO.py:31: UserWarning: KLB library is not installed\n",
      "  warnings.warn(\"KLB library is not installed\")\n"
     ]
    },
    {
     "name": "stdout",
     "output_type": "stream",
     "text": [
      "pyklb library not found, klb files will not be generated\n"
     ]
    }
   ],
   "source": [
    "from registrationtools import utils"
   ]
  },
  {
   "cell_type": "markdown",
   "metadata": {},
   "source": [
    "1 - Data preparation"
   ]
  },
  {
   "cell_type": "code",
   "execution_count": 2,
   "metadata": {
    "scrolled": false
   },
   "outputs": [
    {
     "name": "stdout",
     "output_type": "stream",
     "text": [
      "Path to the folder of the movie(s) (in tiff format only) : \n",
      " C:\\Users\\gros\\Desktop\\DATA\\20221103_livedetection\\new_registration_062023\n",
      "You have 1 movie(s), which is (are) : \n",
      " gastr_SR_long_L1_Sum\n",
      "Correct ? (1 for yes, 0 for no) \n",
      " 1\n",
      "\n",
      "The dimensions of  gastr_SR_long_L1_Sum are  (200, 36, 2, 512, 512) . \n",
      "\n",
      "What is the order of the dimensions (for example TZCYX or XYZT) ? T stands for Time, C for channels if your image has multiple channels, Z for depth (or number or plans) and XY is your field of view. \n",
      " TZCXY\n",
      "\n",
      "So gastr_SR_long_L1_Sum has 2 channels,  200 timepoints, the depth in z is 36 pixels and the XY plane measures  512 x 512 pixels.\n",
      "Correct ? (1 for yes, 0 for no) \n",
      " 1\n",
      "Name of channel n°1 : \n",
      " sulfo\n",
      "Name of channel n°2 : \n",
      " h2b\n",
      "\n",
      "Among the channels['sulfo', 'h2b'], you need a reference channel to compute the registration. A good option is generally a marker that is expressed ubiquitously\n",
      "\n",
      "Name of the reference channel : \n",
      " h2b\n",
      "\n",
      "To register properly, you need to specify the voxel size of your input image. This can be found in Fiji, Image>Show Info. \n",
      "Voxel size of your original image (XYZ successively) :\n",
      " \n",
      "X :0.62\n",
      "Y :0.62\n",
      "Z :2\n",
      "Initial voxel size = [0.62, 0.62, 2.0]\n",
      " \n",
      "You can choose to have another voxel size on the registered image , for example to have an isotropic output image (voxel size [1,1,1]), Or you can also choose to keep the same voxel size. \n",
      "Do you want to change the voxel size of your movies ? (1 for yes, 0 for no) : \n",
      " 1\n",
      "\n",
      "Voxel size of your image after transformation (XYZ): \n",
      " \n",
      "X :1\n",
      "Y :1\n",
      "Z :1\n",
      "\n",
      "Voxel size after transformation = [1.0, 1.0, 1.0]\n",
      "\n",
      "You can choose to apply different transformation types depending on your data :  ['rigid2D', 'rigid3D', 'translation2D', 'translation3D']\n",
      "\n",
      "Which one do you want to use ? (please enter the name of the transformation only, no other character) \n",
      " rigid3D\n"
     ]
    }
   ],
   "source": [
    "list_paths, number_timepoints, channels_float, ch_ref, voxel_size_input, voxel_size_output, trsf_type = utils.data_preparation()"
   ]
  },
  {
   "cell_type": "markdown",
   "metadata": {},
   "source": [
    "2 - Register the data"
   ]
  },
  {
   "cell_type": "code",
   "execution_count": 3,
   "metadata": {},
   "outputs": [
    {
     "name": "stdout",
     "output_type": "stream",
     "text": [
      "\n",
      "Starting experiment\n",
      "The registration will run with the following arguments:\n",
      "\n",
      "--------------------------------------------------------------------------------------------------------------------------------------------------------------------------------------------------------------------------------------------------------------------------------------------------------------------------------------------------------------------------------------------------------------------------------------- File format ---------------------------------------------------------------------------------------------------------------------------------------------------------------------------------------------------------------------------------------------------------------------------------------------------------------------------------------------------------------------------------------------------------------------------------------\n",
      "path_to_data             : C:\\Users\\gros\\Desktop\\DATA\\20221103_livedetection\\new_registration_062023/gastr_SR_long_L1_Sum_h2b/stackseq/\n",
      "file_name                : movie_t{t:03d}.tif\n",
      "trsf_folder              : C:\\Users\\gros\\Desktop\\DATA\\20221103_livedetection\\new_registration_062023/gastr_SR_long_L1_Sum_h2b/trsf/\n",
      "output_format            : C:\\Users\\gros\\Desktop\\DATA\\20221103_livedetection\\new_registration_062023/gastr_SR_long_L1_Sum_h2b/output/\n",
      "check_TP                 : 0\n",
      "\n",
      "---------------------------------------------------------------------------------------------------------------------------------------------------------------------------------------------------------------------------------------------------------------------------------------------------------------------------------------------------------------------------------------------------------------------------------- Time series properties ---------------------------------------------------------------------------------------------------------------------------------------------------------------------------------------------------------------------------------------------------------------------------------------------------------------------------------------------------------------------------------------------------------------------------------\n",
      "voxel_size               : 0.620000x0.620000x2.000000\n",
      "first                    : 0\n",
      "last                     : 199\n",
      "\n",
      "--------------------------------------------------------------------------------------------------------------------------------------------------------------------------------------------------------------------------------------------------------------------------------------------------------------------------------------------------------------------------------------------------------------------------------------- Registration --------------------------------------------------------------------------------------------------------------------------------------------------------------------------------------------------------------------------------------------------------------------------------------------------------------------------------------------------------------------------------------------------------------------------------------\n",
      "compute_trsf             : 1\n",
      "ref_TP                   : 100\n",
      "trsf_type                : rigid3D\n",
      "padding                  : 1\n",
      "lowess                   : 0\n",
      "trsf_interpolation       : 0\n",
      "recompute                : 1\n",
      "apply_trsf               : 1\n",
      "projection_path          : C:\\Users\\gros\\Desktop\\DATA\\20221103_livedetection\\new_registration_062023/gastr_SR_long_L1_Sum_h2b/proj_output/\\\n",
      "image_interpolation      : linear\n",
      "\n",
      "0h:1min:1s\n",
      "{'XResolution': 0.62, 'YResolution': 0.62, 'spacing': 2.0}\n",
      "Failure of {'path_to_data': 'C:\\\\Users\\\\gros\\\\Desktop\\\\DATA\\\\20221103_livedetection\\\\new_registration_062023/gastr_SR_long_L1_Sum_h2b/stackseq/', 'file_name': 'movie_t{t:03d}.tif', 'trsf_folder': 'C:\\\\Users\\\\gros\\\\Desktop\\\\DATA\\\\20221103_livedetection\\\\new_registration_062023/gastr_SR_long_L1_Sum_h2b/trsf/', 'output_format': 'C:\\\\Users\\\\gros\\\\Desktop\\\\DATA\\\\20221103_livedetection\\\\new_registration_062023/gastr_SR_long_L1_Sum_h2b/output/', 'projection_path': 'C:\\\\Users\\\\gros\\\\Desktop\\\\DATA\\\\20221103_livedetection\\\\new_registration_062023/gastr_SR_long_L1_Sum_h2b/proj_output/', 'check_TP': 0, 'voxel_size': [0.62, 0.62, 2.0], 'voxel_size_out': [1.0, 1.0, 1.0], 'first': 0, 'last': 199, 'not_to_do': [], 'compute_trsf': 1, 'ref_TP': 100, 'trsf_type': 'rigid3D', 'padding': 1, 'recompute': 1, 'apply_trsf': 1, 'out_bdv': '', 'plot_trsf': 0}\n",
      "The requested file do not exist: C:\\Users\\gros\\Desktop\\DATA\\20221103_livedetection\\new_registration_062023/gastr_SR_long_L1_Sum_h2b/output/movie_t159.tif\n",
      "\n",
      "Starting experiment\n",
      "The registration will run with the following arguments:\n",
      "\n",
      "------------------------------------------------------------------------------------------------------------------------------------------------------------------------------------------------------------------------------------------------------------------------------------------------------------------------------------------------------------------------------------------------------------------------------------------ File format ------------------------------------------------------------------------------------------------------------------------------------------------------------------------------------------------------------------------------------------------------------------------------------------------------------------------------------------------------------------------------------------------------------------------------------------\n",
      "path_to_data             : C:\\Users\\gros\\Desktop\\DATA\\20221103_livedetection\\new_registration_062023/gastr_SR_long_L1_Sum_sulfo/stackseq/\n",
      "file_name                : movie_t{t:03d}.tif\n",
      "trsf_folder              : C:\\Users\\gros\\Desktop\\DATA\\20221103_livedetection\\new_registration_062023/gastr_SR_long_L1_Sum_h2b/trsf/\n",
      "output_format            : C:\\Users\\gros\\Desktop\\DATA\\20221103_livedetection\\new_registration_062023/gastr_SR_long_L1_Sum_sulfo/output/\n",
      "check_TP                 : 0\n",
      "\n",
      "------------------------------------------------------------------------------------------------------------------------------------------------------------------------------------------------------------------------------------------------------------------------------------------------------------------------------------------------------------------------------------------------------------------------------------- Time series properties ------------------------------------------------------------------------------------------------------------------------------------------------------------------------------------------------------------------------------------------------------------------------------------------------------------------------------------------------------------------------------------------------------------------------------------\n",
      "voxel_size               : 0.620000x0.620000x2.000000\n",
      "first                    : 0\n",
      "last                     : 199\n",
      "\n",
      "------------------------------------------------------------------------------------------------------------------------------------------------------------------------------------------------------------------------------------------------------------------------------------------------------------------------------------------------------------------------------------------------------------------------------------------ Registration -----------------------------------------------------------------------------------------------------------------------------------------------------------------------------------------------------------------------------------------------------------------------------------------------------------------------------------------------------------------------------------------------------------------------------------------\n",
      "compute_trsf             : 0\n",
      "apply_trsf               : 1\n",
      "projection_path          : C:\\Users\\gros\\Desktop\\DATA\\20221103_livedetection\\new_registration_062023/gastr_SR_long_L1_Sum_sulfo/proj_output/\\\n",
      "image_interpolation      : linear\n",
      "\n"
     ]
    },
    {
     "name": "stdout",
     "output_type": "stream",
     "text": [
      "Failure of {'path_to_data': 'C:\\\\Users\\\\gros\\\\Desktop\\\\DATA\\\\20221103_livedetection\\\\new_registration_062023/gastr_SR_long_L1_Sum_sulfo/stackseq/', 'file_name': 'movie_t{t:03d}.tif', 'trsf_folder': 'C:\\\\Users\\\\gros\\\\Desktop\\\\DATA\\\\20221103_livedetection\\\\new_registration_062023/gastr_SR_long_L1_Sum_h2b/trsf/', 'output_format': 'C:\\\\Users\\\\gros\\\\Desktop\\\\DATA\\\\20221103_livedetection\\\\new_registration_062023/gastr_SR_long_L1_Sum_sulfo/output/', 'projection_path': 'C:\\\\Users\\\\gros\\\\Desktop\\\\DATA\\\\20221103_livedetection\\\\new_registration_062023/gastr_SR_long_L1_Sum_sulfo/proj_output/', 'check_TP': 0, 'voxel_size': [0.62, 0.62, 2.0], 'voxel_size_out': [1.0, 1.0, 1.0], 'first': 0, 'last': 199, 'not_to_do': [], 'compute_trsf': 0, 'ref_TP': 100, 'trsf_type': 'rigid3D', 'padding': 1, 'recompute': 1, 'apply_trsf': 1, 'out_bdv': '', 'plot_trsf': 0}\n",
      "The requested file do not exist: C:\\Users\\gros\\Desktop\\DATA\\20221103_livedetection\\new_registration_062023/gastr_SR_long_L1_Sum_sulfo/output/movie_t013.tif\n"
     ]
    }
   ],
   "source": [
    "jsons = utils.run_registration(list_paths=list_paths,\n",
    "                                channels_float=channels_float, ch_ref=ch_ref, \n",
    "                                voxel_size_input=voxel_size_input, voxel_size_output=voxel_size_output,\n",
    "                                trsf_type=trsf_type)"
   ]
  },
  {
   "cell_type": "markdown",
   "metadata": {},
   "source": [
    "3 - Saving the sequence as a stack (optional)\n",
    "\n",
    "The previous cell saved an image sequence. Here you can save the output as a hyperstack that you can open on Fiji.\n",
    "\n",
    "Careful about your storage : Because of the transformation, the size of the output can be significantly bigger than the original"
   ]
  },
  {
   "cell_type": "code",
   "execution_count": 4,
   "metadata": {},
   "outputs": [
    {
     "name": "stderr",
     "output_type": "stream",
     "text": [
      "c:\\Users\\gros\\Anaconda3\\envs\\registration\\lib\\site-packages\\tifffile\\tifffile.py:3474: UserWarning: <tifffile.TiffWriter '2_registered.tif'> truncating ImageJ file\n",
      "  warnings.warn(\n"
     ]
    },
    {
     "name": "stdout",
     "output_type": "stream",
     "text": [
      "saved registered 2 of size (102, 82, 2, 348, 364)\n"
     ]
    }
   ],
   "source": [
    "utils.save_sequences_as_stacks(list_paths=list_paths,\n",
    "           channels=channels_float+[ch_ref],\n",
    "           number_timepoints=number_timepoints)"
   ]
  },
  {
   "cell_type": "markdown",
   "metadata": {},
   "source": [
    "4 - Saving the json files (optional)\n",
    "\n",
    "If you want to save the json file of your registration, execute the cell below (this might be useful in case of debugging or safety checks)"
   ]
  },
  {
   "cell_type": "code",
   "execution_count": null,
   "metadata": {},
   "outputs": [],
   "source": [
    "utils.save_jsonfile(list_paths=list_paths,json_string=jsons)"
   ]
  }
 ],
 "metadata": {
  "kernelspec": {
   "display_name": "Python 3 (ipykernel)",
   "language": "python",
   "name": "python3"
  },
  "language_info": {
   "codemirror_mode": {
    "name": "ipython",
    "version": 3
   },
   "file_extension": ".py",
   "mimetype": "text/x-python",
   "name": "python",
   "nbconvert_exporter": "python",
   "pygments_lexer": "ipython3",
   "version": "3.10.9"
  }
 },
 "nbformat": 4,
 "nbformat_minor": 2
}
