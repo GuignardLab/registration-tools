{
 "cells": [
  {
   "cell_type": "markdown",
   "metadata": {},
   "source": [
    "# Registration tools\n",
    "\n",
    "This notebook is part of [blabla citation papier].\n",
    "Before executing it, please make sure you have installed the tools properly (see installation part).\n",
    "\n",
    "Please run the cells one by one, provide input when it is asked and press enter to validate your input, but do not modify the content of the cells.\n",
    "\n",
    "The first part prepares the data, cut the movie into a timesequence and asks for the parameters. The second part does the actual registration. The third part saves the registered sequence as a stack, and the fourth part saves the parameter files.\n",
    "The process can take few minutes depending on the size of your data. If there is an error, it will be printed either below or in the terminal window. To solve it, please consider the 'Troubleshooting' section.\n",
    "\n",
    "The data structure is the following :<br>\n",
    "-If you have a single file to register (multichannel or not), you should give as an input the **path to the tif file**.<br>\n",
    "-If you have different channels in separated files, you need to put these channels in an isolated folder, and give as an input the **path to the folder**.\n"
   ]
  },
  {
   "cell_type": "markdown",
   "metadata": {},
   "source": [
    "0 - Importing packages (no input required)"
   ]
  },
  {
   "cell_type": "code",
   "execution_count": null,
   "metadata": {},
   "outputs": [],
   "source": [
    "from registrationtools import utils"
   ]
  },
  {
   "cell_type": "markdown",
   "metadata": {},
   "source": [
    "1 - Data preparation"
   ]
  },
  {
   "cell_type": "code",
   "execution_count": null,
   "metadata": {
    "scrolled": false
   },
   "outputs": [],
   "source": [
    "list_paths, number_timepoints, channels_float, ch_ref, voxel_size_input, voxel_size_output, trsf_type,datatype = utils.data_preparation()"
   ]
  },
  {
   "cell_type": "markdown",
   "metadata": {},
   "source": [
    "2 - Register the data"
   ]
  },
  {
   "cell_type": "code",
   "execution_count": null,
   "metadata": {},
   "outputs": [],
   "source": [
    "jsons = utils.run_registration(list_paths=list_paths,\n",
    "                                channels_float=channels_float, ch_ref=ch_ref, \n",
    "                                voxel_size_input=voxel_size_input, voxel_size_output=voxel_size_output,\n",
    "                                trsf_type=trsf_type)"
   ]
  },
  {
   "cell_type": "markdown",
   "metadata": {},
   "source": [
    "3 - Saving the sequence as a stack (optional)\n",
    "\n",
    "The previous cell saved an image sequence. Here you can save the output as a hyperstack that you can open on Fiji.\n",
    "\n",
    "Careful about your storage : Because of the transformation, the size of the output can be significantly bigger than the original"
   ]
  },
  {
   "cell_type": "code",
   "execution_count": null,
   "metadata": {},
   "outputs": [],
   "source": [
    "utils.save_sequences_as_stacks(list_paths=list_paths,\n",
    "           channels=channels_float+[ch_ref],\n",
    "           number_timepoints=number_timepoints,\n",
    "            datatype=datatype)"
   ]
  },
  {
   "cell_type": "markdown",
   "metadata": {},
   "source": [
    "4 - Saving the json files (optional)\n",
    "\n",
    "If you want to save the json file of your registration, execute the cell below (this might be useful in case of debugging or safety checks)"
   ]
  },
  {
   "cell_type": "code",
   "execution_count": null,
   "metadata": {},
   "outputs": [],
   "source": [
    "utils.save_jsonfile(list_paths=list_paths,json_string=jsons)"
   ]
  },
  {
   "cell_type": "code",
   "execution_count": null,
   "metadata": {},
   "outputs": [],
   "source": []
  },
  {
   "cell_type": "code",
   "execution_count": null,
   "metadata": {},
   "outputs": [],
   "source": []
  }
 ],
 "metadata": {
  "kernelspec": {
   "display_name": "Python 3 (ipykernel)",
   "language": "python",
   "name": "python3"
  },
  "language_info": {
   "codemirror_mode": {
    "name": "ipython",
    "version": 3
   },
   "file_extension": ".py",
   "mimetype": "text/x-python",
   "name": "python",
   "nbconvert_exporter": "python",
   "pygments_lexer": "ipython3",
   "version": "3.10.9"
  }
 },
 "nbformat": 4,
 "nbformat_minor": 2
}
