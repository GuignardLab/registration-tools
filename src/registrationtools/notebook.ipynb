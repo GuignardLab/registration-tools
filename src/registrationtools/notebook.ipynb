{
 "cells": [
  {
   "cell_type": "markdown",
   "metadata": {},
   "source": [
    "# Registration tools\n",
    "\n",
    "This notebook is part of [blabla citation papier].\n",
    "Before executing it, please make sure you have installed the tools properly (see installation part).\n",
    "\n",
    "Please run the cells one by one, provide input when it is asked and press enter to validate your input, but do not modify the content of the cells.\n",
    "\n",
    "The data structure required is the following : one main folder with the raw movies (3D stacks in time), which can be multichannel or not.\n",
    "The first part prepares the data, cut the movie into a timesequence and asks for the parameters. The second part does the actual registration. The third part saves the registered sequence as a stack, and the fourth part saves the parameter files.\n",
    "The process can take few minutes depending on the size of your data. If there is an error, it will be printed either below or in the terminal window. To solve it, please consider the 'Troubleshooting' section.\n"
   ]
  },
  {
   "attachments": {},
   "cell_type": "markdown",
   "metadata": {},
   "source": [
    "0 - Importing packages (no input required)"
   ]
  },
  {
   "cell_type": "code",
   "execution_count": null,
   "metadata": {
    "vscode": {
     "languageId": "plaintext"
    }
   },
   "outputs": [],
   "source": [
    "import utils"
   ]
  },
  {
   "attachments": {},
   "cell_type": "markdown",
   "metadata": {},
   "source": [
    "1 - Data preparation"
   ]
  },
  {
   "cell_type": "code",
   "execution_count": null,
   "metadata": {
    "vscode": {
     "languageId": "plaintext"
    }
   },
   "outputs": [],
   "source": [
    "list_paths, number_timepoints, channels_float, ch_ref, voxel_size_input, voxel_size_output, trsf_type = utils.data_preparation()"
   ]
  },
  {
   "attachments": {},
   "cell_type": "markdown",
   "metadata": {},
   "source": [
    "2 - Register the data"
   ]
  },
  {
   "cell_type": "code",
   "execution_count": null,
   "metadata": {
    "vscode": {
     "languageId": "plaintext"
    }
   },
   "outputs": [],
   "source": [
    "jsons = utils.run_registration(list_paths=list_paths,\n",
    "                                channels_float=channels_float, ch_ref=ch_ref, \n",
    "                                voxel_size_input=voxel_size_input, voxel_size_output=voxel_size_output,\n",
    "                                trsf_type=trsf_type)"
   ]
  },
  {
   "attachments": {},
   "cell_type": "markdown",
   "metadata": {},
   "source": [
    "3 - Saving the sequence as a stack (optional)\n",
    "\n",
    "The previous cell saved an image sequence. Here you can save the output as a hyperstack that you can open on Fiji.\n",
    "\n",
    "Careful about your storage : Because of the transformation, the size of the output can be significantly bigger than the original"
   ]
  },
  {
   "cell_type": "code",
   "execution_count": null,
   "metadata": {
    "vscode": {
     "languageId": "plaintext"
    }
   },
   "outputs": [],
   "source": [
    "utils.save_sequences_as_stacks(list_paths=list_paths,\n",
    "           channels=channels_float+[ch_ref],\n",
    "           number_timepoints=number_timepoints)"
   ]
  },
  {
   "attachments": {},
   "cell_type": "markdown",
   "metadata": {},
   "source": [
    "4 - Saving the json files (optional)\n",
    "\n",
    "If you want to save the json file of your registration, execute the cell below (this might be useful in case of debugging or safety checks)"
   ]
  },
  {
   "cell_type": "code",
   "execution_count": null,
   "metadata": {
    "vscode": {
     "languageId": "plaintext"
    }
   },
   "outputs": [],
   "source": [
    "utils.save_jsonfile(list_paths=list_paths,json_string=jsons)"
   ]
  }
 ],
 "metadata": {
  "language_info": {
   "name": "python"
  },
  "orig_nbformat": 4
 },
 "nbformat": 4,
 "nbformat_minor": 2
}
